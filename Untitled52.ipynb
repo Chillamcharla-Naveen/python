{
  "nbformat": 4,
  "nbformat_minor": 0,
  "metadata": {
    "colab": {
      "provenance": []
    },
    "kernelspec": {
      "name": "python3",
      "display_name": "Python 3"
    },
    "language_info": {
      "name": "python"
    }
  },
  "cells": [
    {
      "cell_type": "code",
      "execution_count": null,
      "metadata": {
        "id": "jS3PJVXnZTZH"
      },
      "outputs": [],
      "source": [
        "import numpy as np"
      ]
    },
    {
      "cell_type": "code",
      "source": [
        "from sklearn.linear_model import LinearRegression\n",
        "from sklearn.metrics import mean_squared_error\n",
        "from sklearn.model_selection import train_test_split\n",
        "from sklearn.preprocessing import StandardScaler\n",
        "# Generate dataset of linear equations\n",
        "def generate_linear_equations(num_samples, slope_range, intercept_range):\n",
        " X = np.random.uniform(low=-10, high=10, size=(num_samples, 2)) # Generate rand\n",
        " slopes = np.random.uniform(low=slope_range[0], high=slope_range[1], size=num_sa\n",
        " intercepts = np.random.uniform(low=intercept_range[0], high=intercept_range[1],\n",
        " y = slopes * X[:, 0] + intercepts * X[:, 1] # Compute output values based on\n",
        " return X, y, slopes, intercepts\n",
        "# Generate dataset\n",
        "num_samples = 1000\n",
        "slope_range = [-5, 5]\n",
        "intercept_range = [-10, 10]\n",
        "X, y, true_slopes, true_intercepts = generate_linear_equations(num_samples, slope_r\n",
        "# Split the dataset into training and testing sets\n",
        "X_train, X_test, y_train, y_test = train_test_split(X, y, test_size=0.2, random_sta\n",
        "# Train the linear regression model\n",
        "model = LinearRegression()\n",
        "model.fit(X_train, y_train)\n",
        "# Data pre-processing\n",
        "scaler = StandardScaler()\n",
        "X_scaled = scaler.fit_transform(X)\n",
        "# Split the pre-processed dataset into training and testing sets\n",
        "X_train_scaled, X_test_scaled, y_train, y_test = train_test_split(X_scaled, y, test\n",
        "# Train the linear regression model on the scaled data\n",
        "model = LinearRegression()\n",
        "model.fit(X_train_scaled, y_train)\n",
        "# Scale new input data for prediction\n",
        "new_input = np.array([[2.5, 1.8]]) # Example new input data\n",
        "new_input_scaled = scaler.transform(new_input)\n",
        "# Predict on the scaled new input\n",
        "predicted_output = model.predict(new_input_scaled)\n",
        "# Print the predicted coefficients\n",
        "print(\"Predicted Coefficients:\", model.coef_)\n",
        "print(\"Predicted Intercept:\", model.intercept_)\n",
        "print(\"Predicted Output:\", predicted_output)"
      ],
      "metadata": {
        "colab": {
          "base_uri": "https://localhost:8080/",
          "height": 248
        },
        "id": "tZTEf_fRZU11",
        "outputId": "60493004-2ec3-4150-91c5-b154959564af"
      },
      "execution_count": null,
      "outputs": [
        {
          "output_type": "error",
          "ename": "SyntaxError",
          "evalue": "ignored",
          "traceback": [
            "\u001b[0;36m  File \u001b[0;32m\"<ipython-input-3-7fbf6f8de66e>\"\u001b[0;36m, line \u001b[0;32m8\u001b[0m\n\u001b[0;31m    slopes = np.random.uniform(low=slope_range[0], high=slope_range[1], size=num_sa\u001b[0m\n\u001b[0m                                                                             ^\u001b[0m\n\u001b[0;31mSyntaxError\u001b[0m\u001b[0;31m:\u001b[0m invalid syntax. Perhaps you forgot a comma?\n"
          ]
        }
      ]
    }
  ]
}